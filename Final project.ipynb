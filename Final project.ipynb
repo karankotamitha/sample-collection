{
 "cells": [
  {
   "cell_type": "code",
   "execution_count": 1,
   "id": "fa22d946",
   "metadata": {},
   "outputs": [],
   "source": [
    "import pandas as pd\n",
    "import numpy as np\n",
    "import matplotlib.pyplot as plt\n",
    "import seaborn as sns\n",
    "import warnings\n",
    "warnings.filterwarnings('ignore')"
   ]
  },
  {
   "cell_type": "code",
   "execution_count": 2,
   "id": "74e3314c",
   "metadata": {},
   "outputs": [
    {
     "name": "stdout",
     "output_type": "stream",
     "text": [
      "<class 'pandas.core.frame.DataFrame'>\n",
      "RangeIndex: 1304 entries, 0 to 1303\n",
      "Data columns (total 26 columns):\n",
      " #   Column                                        Non-Null Count  Dtype  \n",
      "---  ------                                        --------------  -----  \n",
      " 0   Unnamed: 0                                    1304 non-null   int64  \n",
      " 1   Patient ID                                    1304 non-null   object \n",
      " 2   Agent ID                                      1304 non-null   int64  \n",
      " 3   pincode                                       1304 non-null   object \n",
      " 4   patient location                              1304 non-null   object \n",
      " 5   Latitudes and Longitudes (Patient)            1304 non-null   object \n",
      " 6   Latitudes and Longitudes (Agent)              1304 non-null   object \n",
      " 7   Latitudes and Longitudes (Diagnostic Center)  1304 non-null   object \n",
      " 8   Diagnostic Centers                            1304 non-null   object \n",
      " 9   Time slot                                     1304 non-null   object \n",
      " 10  shortest distance Agent-Pathlab(m)            1304 non-null   int64  \n",
      " 11  shortest distance Patient-Pathlab(m)          1304 non-null   int64  \n",
      " 12  shortest distance Patient-Agent(m)            1304 non-null   int64  \n",
      " 13  Availabilty time (Patient)                    1304 non-null   object \n",
      " 14  Age                                           1304 non-null   int64  \n",
      " 15  Gender                                        1304 non-null   object \n",
      " 16  Test Booking Date                             1304 non-null   object \n",
      " 17  Test Booking Time HH:MM                       1304 non-null   object \n",
      " 18  Test name                                     1304 non-null   object \n",
      " 19  Sample                                        1304 non-null   object \n",
      " 20  Way Of Storage Of Sample                      1304 non-null   object \n",
      " 21  Sample Collection Date                        1304 non-null   object \n",
      " 22   Time For Sample Collection MM                1304 non-null   int64  \n",
      " 23  Time Agent-Pathlab sec                        1304 non-null   float64\n",
      " 24  Agent Arrival Time (range) HH:MM              1304 non-null   object \n",
      " 25  Exact Arrival Time MM                         1304 non-null   int64  \n",
      "dtypes: float64(1), int64(8), object(17)\n",
      "memory usage: 265.0+ KB\n"
     ]
    },
    {
     "data": {
      "text/html": [
       "<div>\n",
       "<style scoped>\n",
       "    .dataframe tbody tr th:only-of-type {\n",
       "        vertical-align: middle;\n",
       "    }\n",
       "\n",
       "    .dataframe tbody tr th {\n",
       "        vertical-align: top;\n",
       "    }\n",
       "\n",
       "    .dataframe thead th {\n",
       "        text-align: right;\n",
       "    }\n",
       "</style>\n",
       "<table border=\"1\" class=\"dataframe\">\n",
       "  <thead>\n",
       "    <tr style=\"text-align: right;\">\n",
       "      <th></th>\n",
       "      <th>Agent ID</th>\n",
       "      <th>shortest distance Agent-Pathlab(m)</th>\n",
       "      <th>shortest distance Patient-Pathlab(m)</th>\n",
       "      <th>shortest distance Patient-Agent(m)</th>\n",
       "      <th>Time For Sample Collection MM</th>\n",
       "      <th>Time Agent-Pathlab sec</th>\n",
       "      <th>Exact Arrival Time MM</th>\n",
       "    </tr>\n",
       "  </thead>\n",
       "  <tbody>\n",
       "    <tr>\n",
       "      <th>count</th>\n",
       "      <td>1304.000000</td>\n",
       "      <td>1304.000000</td>\n",
       "      <td>1304.000000</td>\n",
       "      <td>1304.000000</td>\n",
       "      <td>1304.000000</td>\n",
       "      <td>1304.000000</td>\n",
       "      <td>1304.000000</td>\n",
       "    </tr>\n",
       "    <tr>\n",
       "      <th>mean</th>\n",
       "      <td>29.796779</td>\n",
       "      <td>3493.313650</td>\n",
       "      <td>4772.600460</td>\n",
       "      <td>3543.828988</td>\n",
       "      <td>12.569018</td>\n",
       "      <td>349.331365</td>\n",
       "      <td>36.672546</td>\n",
       "    </tr>\n",
       "    <tr>\n",
       "      <th>std</th>\n",
       "      <td>11.605935</td>\n",
       "      <td>8462.425985</td>\n",
       "      <td>8904.195019</td>\n",
       "      <td>5914.498925</td>\n",
       "      <td>4.621664</td>\n",
       "      <td>846.242599</td>\n",
       "      <td>10.873626</td>\n",
       "    </tr>\n",
       "    <tr>\n",
       "      <th>min</th>\n",
       "      <td>10.000000</td>\n",
       "      <td>0.000000</td>\n",
       "      <td>0.000000</td>\n",
       "      <td>0.000000</td>\n",
       "      <td>5.000000</td>\n",
       "      <td>0.000000</td>\n",
       "      <td>24.000000</td>\n",
       "    </tr>\n",
       "    <tr>\n",
       "      <th>25%</th>\n",
       "      <td>20.000000</td>\n",
       "      <td>269.750000</td>\n",
       "      <td>696.500000</td>\n",
       "      <td>383.250000</td>\n",
       "      <td>9.000000</td>\n",
       "      <td>26.975000</td>\n",
       "      <td>24.000000</td>\n",
       "    </tr>\n",
       "    <tr>\n",
       "      <th>50%</th>\n",
       "      <td>30.000000</td>\n",
       "      <td>1319.000000</td>\n",
       "      <td>2564.500000</td>\n",
       "      <td>1183.000000</td>\n",
       "      <td>13.000000</td>\n",
       "      <td>131.900000</td>\n",
       "      <td>39.000000</td>\n",
       "    </tr>\n",
       "    <tr>\n",
       "      <th>75%</th>\n",
       "      <td>39.250000</td>\n",
       "      <td>4154.250000</td>\n",
       "      <td>7006.500000</td>\n",
       "      <td>4187.250000</td>\n",
       "      <td>17.000000</td>\n",
       "      <td>415.425000</td>\n",
       "      <td>39.000000</td>\n",
       "    </tr>\n",
       "    <tr>\n",
       "      <th>max</th>\n",
       "      <td>50.000000</td>\n",
       "      <td>248617.000000</td>\n",
       "      <td>248952.000000</td>\n",
       "      <td>67593.000000</td>\n",
       "      <td>20.000000</td>\n",
       "      <td>24861.700000</td>\n",
       "      <td>64.000000</td>\n",
       "    </tr>\n",
       "  </tbody>\n",
       "</table>\n",
       "</div>"
      ],
      "text/plain": [
       "          Agent ID  shortest distance Agent-Pathlab(m)  \\\n",
       "count  1304.000000                         1304.000000   \n",
       "mean     29.796779                         3493.313650   \n",
       "std      11.605935                         8462.425985   \n",
       "min      10.000000                            0.000000   \n",
       "25%      20.000000                          269.750000   \n",
       "50%      30.000000                         1319.000000   \n",
       "75%      39.250000                         4154.250000   \n",
       "max      50.000000                       248617.000000   \n",
       "\n",
       "       shortest distance Patient-Pathlab(m)  \\\n",
       "count                           1304.000000   \n",
       "mean                            4772.600460   \n",
       "std                             8904.195019   \n",
       "min                                0.000000   \n",
       "25%                              696.500000   \n",
       "50%                             2564.500000   \n",
       "75%                             7006.500000   \n",
       "max                           248952.000000   \n",
       "\n",
       "       shortest distance Patient-Agent(m)   Time For Sample Collection MM  \\\n",
       "count                         1304.000000                     1304.000000   \n",
       "mean                          3543.828988                       12.569018   \n",
       "std                           5914.498925                        4.621664   \n",
       "min                              0.000000                        5.000000   \n",
       "25%                            383.250000                        9.000000   \n",
       "50%                           1183.000000                       13.000000   \n",
       "75%                           4187.250000                       17.000000   \n",
       "max                          67593.000000                       20.000000   \n",
       "\n",
       "       Time Agent-Pathlab sec  Exact Arrival Time MM  \n",
       "count             1304.000000            1304.000000  \n",
       "mean               349.331365              36.672546  \n",
       "std                846.242599              10.873626  \n",
       "min                  0.000000              24.000000  \n",
       "25%                 26.975000              24.000000  \n",
       "50%                131.900000              39.000000  \n",
       "75%                415.425000              39.000000  \n",
       "max              24861.700000              64.000000  "
      ]
     },
     "execution_count": 2,
     "metadata": {},
     "output_type": "execute_result"
    }
   ],
   "source": [
    "# Importing Dataset\n",
    "A = pd.read_csv(\"C:\\\\Users\\\\amith\\\\OneDrive\\\\Documents\\\\Project\\\\final_data.csv\")\n",
    "A.shape\n",
    "A.columns\n",
    "A.info()\n",
    "A.isna().sum()\n",
    "Ag = A.drop([\"Unnamed: 0\",\"Patient ID\",\"pincode\",\"Age\",\"Test Booking Date\",\"Test Booking Time HH:MM\",\"Sample Collection Date\"],axis=1)\n",
    "Ag.describe() #EDA"
   ]
  },
  {
   "cell_type": "code",
   "execution_count": 3,
   "id": "e753813f",
   "metadata": {},
   "outputs": [
    {
     "data": {
      "text/plain": [
       "<BarContainer object of 1304 artists>"
      ]
     },
     "execution_count": 3,
     "metadata": {},
     "output_type": "execute_result"
    },
    {
     "data": {
      "image/png": "[encoded data removed]",
      "text/plain": [
       "<Figure size 432x288 with 1 Axes>"
      ]
     },
     "metadata": {
      "needs_background": "light"
     },
     "output_type": "display_data"
    }
   ],
   "source": [
    "# Data Visualization\n",
    "plt.bar(height = Ag[\"Exact Arrival Time MM\"],x = np.arange(1,1305,1))\n"
   ]
  },
  {
   "cell_type": "code",
   "execution_count": 4,
   "id": "9e772f48",
   "metadata": {},
   "outputs": [
    {
     "data": {
      "text/plain": [
       "0"
      ]
     },
     "execution_count": 4,
     "metadata": {},
     "output_type": "execute_result"
    }
   ],
   "source": [
    "# Data Preprocessing\n",
    "# Duplicates\n",
    "# Identify the duplicates in the dataset\n",
    "duplicate = Ag.duplicated()\n",
    "sum(duplicate)"
   ]
  },
  {
   "cell_type": "code",
   "execution_count": 165,
   "id": "28b55338",
   "metadata": {},
   "outputs": [],
   "source": [
    "df = Ag[[\"Agent ID\",\"Diagnostic Centers\",\"Time slot\",\"shortest distance Agent-Pathlab(m)\",\"shortest distance Patient-Pathlab(m)\",\n",
    "         \"Availabilty time (Patient)\",\"Gender\",\"Way Of Storage Of Sample\",\"shortest distance Patient-Agent(m)\",\n",
    "         \"Time Agent-Pathlab sec\",\" Time For Sample Collection MM\",\"Agent Arrival Time (range) HH:MM\",\"Exact Arrival Time MM\"]]\n"
   ]
  },
  {
   "cell_type": "code",
   "execution_count": 166,
   "id": "c76ad829",
   "metadata": {},
   "outputs": [
    {
     "data": {
      "text/plain": [
       "Index(['Agent ID', 'Diagnostic Centers', 'Time slot',\n",
       "       'shortest distance Agent-Pathlab(m)',\n",
       "       'shortest distance Patient-Pathlab(m)', 'Availabilty time (Patient)',\n",
       "       'Gender', 'Way Of Storage Of Sample',\n",
       "       'shortest distance Patient-Agent(m)', 'Time Agent-Pathlab sec',\n",
       "       ' Time For Sample Collection MM', 'Agent Arrival Time (range) HH:MM',\n",
       "       'Exact Arrival Time MM'],\n",
       "      dtype='object')"
      ]
     },
     "execution_count": 166,
     "metadata": {},
     "output_type": "execute_result"
    }
   ],
   "source": [
    "df.columns"
   ]
  },
  {
   "cell_type": "code",
   "execution_count": 167,
   "id": "5e1823f0",
   "metadata": {},
   "outputs": [
    {
     "data": {
      "text/plain": [
       "Index(['Agent ID', 'Diagnostic Centers', 'Time slot', 'Distance Agent-Pathlab',\n",
       "       'Distance Patient-Pathlab', 'Patient Availabilty', 'Gender',\n",
       "       'Specimen Storage', 'Distance Patient-Agent', 'Agent-Pathlab sec',\n",
       "       'Specimen collection Time', 'Agent Arrival Time', 'Exact Arrival Time'],\n",
       "      dtype='object')"
      ]
     },
     "execution_count": 167,
     "metadata": {},
     "output_type": "execute_result"
    }
   ],
   "source": [
    "df.rename(columns={'shortest distance Agent-Pathlab(m)' : 'Distance Agent-Pathlab', \n",
    "                   'shortest distance Patient-Pathlab(m)' : 'Distance Patient-Pathlab',  \n",
    "                   'shortest distance Patient-Agent(m)' : 'Distance Patient-Agent',  \n",
    "                   'Availabilty time (Patient)' : 'Patient Availabilty',  \n",
    "                   'Test Booking Date' : 'Booking Date',  \n",
    "                   'Test Booking Time HH:MM' : 'Booking Time',\n",
    "                   'Way Of Storage Of Sample' : 'Specimen Storage',\n",
    "                   ' Time For Sample Collection MM' : 'Specimen collection Time',\n",
    "                   'Time Agent-Pathlab sec' : 'Agent-Pathlab sec',\n",
    "                   'Agent Arrival Time (range) HH:MM' : 'Agent Arrival Time',\n",
    "                   'Exact Arrival Time MM' : 'Exact Arrival Time'   \n",
    "                  }, inplace=True)\n",
    "df.columns"
   ]
  },
  {
   "cell_type": "code",
   "execution_count": 168,
   "id": "8ea8f96c",
   "metadata": {},
   "outputs": [
    {
     "data": {
      "text/plain": [
       "['Medquest Diagnostics Center',\n",
       " 'Vijaya Diagnostic Center',\n",
       " 'Apollo Diagnostics',\n",
       " 'Lucid Medical Diagnostics',\n",
       " 'Vivaa Diagnostic Center',\n",
       " 'Medifine Diagnostic Center',\n",
       " 'Diamond Diagnostic Center',\n",
       " 'Tesla Diagnostics',\n",
       " 'Pronto Diagnostics Center',\n",
       " 'Sri Sai Diagnostic Center',\n",
       " 'Vijaya Diagonstic Center',\n",
       " 'Medquest Diagnostics',\n",
       " 'Pronto Diagnostics',\n",
       " 'Viva Diagnostic']"
      ]
     },
     "execution_count": 168,
     "metadata": {},
     "output_type": "execute_result"
    }
   ],
   "source": [
    "list(df['Diagnostic Centers'].unique())"
   ]
  },
  {
   "cell_type": "code",
   "execution_count": 169,
   "id": "c6a149e9",
   "metadata": {},
   "outputs": [
    {
     "data": {
      "text/plain": [
       "<AxesSubplot:>"
      ]
     },
     "execution_count": 169,
     "metadata": {},
     "output_type": "execute_result"
    },
    {
     "data": {
      "image/png": "[encoded data removed]",
      "text/plain": [
       "<Figure size 432x288 with 1 Axes>"
      ]
     },
     "metadata": {
      "needs_background": "light"
     },
     "output_type": "display_data"
    }
   ],
   "source": [
    "df['Diagnostic Centers'].value_counts().plot(kind = 'bar')"
   ]
  },
  {
   "cell_type": "code",
   "execution_count": 174,
   "id": "159d1fb4",
   "metadata": {},
   "outputs": [],
   "source": [
    "def name_change(text):\n",
    "    if text == 'Medquest Diagnostics Center' or text == 'Medquest Diagnostics':\n",
    "        return 'Medquest Diagnostics Center'\n",
    "    elif text == 'Pronto Diagnostics' or text == 'Pronto Diagnostics Center':\n",
    "        return 'Pronto Diagnostics Center'\n",
    "    elif text == 'Vijaya Diagonstic Center' or text == 'Vijaya Diagnostic Center':\n",
    "        return 'Vijaya Diagnostic Center'\n",
    "    elif text == 'Viva Diagnostic' or text == 'Vivaa Diagnostic Center':\n",
    "        return 'Vivaa Diagnostic Center'\n",
    "    else:\n",
    "        return text\n",
    "\n",
    "df['Diagnostic Centers'] = df['Diagnostic Centers'].apply(name_change) "
   ]
  },
  {
   "cell_type": "code",
   "execution_count": 175,
   "id": "2f887567",
   "metadata": {},
   "outputs": [
    {
     "data": {
      "text/plain": [
       "<AxesSubplot:>"
      ]
     },
     "execution_count": 175,
     "metadata": {},
     "output_type": "execute_result"
    },
    {
     "data": {
      "image/png": "[encoded data removed]",
      "text/plain": [
       "<Figure size 432x288 with 1 Axes>"
      ]
     },
     "metadata": {
      "needs_background": "light"
     },
     "output_type": "display_data"
    }
   ],
   "source": [
    "df['Time slot'].value_counts().plot(kind = 'bar')"
   ]
  },
  {
   "cell_type": "code",
   "execution_count": 176,
   "id": "36c68990",
   "metadata": {},
   "outputs": [
    {
     "data": {
      "text/plain": [
       "<AxesSubplot:>"
      ]
     },
     "execution_count": 176,
     "metadata": {},
     "output_type": "execute_result"
    },
    {
     "data": {
      "image/png": "[encoded data removed]",
      "text/plain": [
       "<Figure size 432x288 with 1 Axes>"
      ]
     },
     "metadata": {
      "needs_background": "light"
     },
     "output_type": "display_data"
    }
   ],
   "source": [
    "df['Specimen Storage'].value_counts().plot(kind = 'bar')"
   ]
  },
  {
   "cell_type": "code",
   "execution_count": 177,
   "id": "3cf4e8b2",
   "metadata": {},
   "outputs": [
    {
     "data": {
      "text/plain": [
       "17"
      ]
     },
     "execution_count": 177,
     "metadata": {},
     "output_type": "execute_result"
    }
   ],
   "source": [
    "len(df['Patient Availabilty'].unique())"
   ]
  },
  {
   "cell_type": "code",
   "execution_count": 178,
   "id": "c0d911bc",
   "metadata": {},
   "outputs": [
    {"data": {"text/plain": ["<AxesSubplot:>"]},
     "execution_count": 178,
     "metadata": {},
     "output_type": "execute_result"
    },
    {
     "data": {
      "image/png": "[encoded data removed]",
      "text/plain": [
       "<Figure size 432x288 with 1 Axes>"
      ]
     },
     "metadata": {
      "needs_background": "light"
     },
     "output_type": "display_data"
    }
   ],
   "source": [
    "df['Patient Availabilty'].value_counts().plot(kind = 'bar')"
   ]
  },
  {
   "cell_type": "code",
   "execution_count": 179,
   "id": "40558fee",
   "metadata": {},
   "outputs": [
    {
     "data": {
      "text/plain": [
       "16"
      ]
     },
     "execution_count": 179,
     "metadata": {},
     "output_type": "execute_result"
    }
   ],
   "source": [
    "len(df['Agent Arrival Time'].unique())"
   ]
  },
  {
   "cell_type": "code",
   "execution_count": 181,
   "id": "39b4e990",
   "metadata": {},
   "outputs": [
    {
     "data": {
      "text/plain": [
       "<AxesSubplot:>"
      ]
     },
     "execution_count": 181,
     "metadata": {},
     "output_type": "execute_result"
    },
    {
     "data": {
      "image/png": "[encoded data removed]",
      "text/plain": [
       "<Figure size 432x288 with 1 Axes>"
      ]
     },
     "metadata": {
      "needs_background": "light"
     },
     "output_type": "display_data"
    }
   ],
   "source": [
    "df['Agent Arrival Time'].value_counts().plot(kind = \"bar\")"
   ]
  },
  {
   "cell_type": "code",
   "execution_count": 182,
   "id": "cd15f684",
   "metadata": {},
   "outputs": [
    {
     "data": {
      "text/plain": [
       "<AxesSubplot:>"
      ]
     },
     "execution_count": 182,
     "metadata": {},
     "output_type": "execute_result"
    },
    {
     "data": {
      "image/png": "[encoded data removed]",
      "text/plain": [
       "<Figure size 432x288 with 1 Axes>"
      ]
     },
     "metadata": {
      "needs_background": "light"
     },
     "output_type": "display_data"
    }
   ],
   "source": [
    "df['Gender'].value_counts().plot(kind = 'bar')"
   ]
  },
  {
   "cell_type": "code",
   "execution_count": 183,
   "id": "5757275c",
   "metadata": {},
   "outputs": [
    {
     "data": {
      "text/html": [
       "<div>\n",
       "<style scoped>\n",
       "    .dataframe tbody tr th:only-of-type {\n",
       "        vertical-align: middle;\n",
       "    }\n",
       "\n",
       "    .dataframe tbody tr th {\n",
       "        vertical-align: top;\n",
       "    }\n",
       "\n",
       "    .dataframe thead th {\n",
       "        text-align: right;\n",
       "    }\n",
       "</style>\n",
       "<table border=\"1\" class=\"dataframe\">\n",
       "  <thead>\n",
       "    <tr style=\"text-align: right;\">\n",
       "      <th></th>\n",
       "      <th>Agent ID</th>\n",
       "      <th>Diagnostic Centers</th>\n",
       "      <th>Time slot</th>\n",
       "      <th>Distance Agent-Pathlab</th>\n",
       "      <th>Distance Patient-Pathlab</th>\n",
       "      <th>Patient Availabilty</th>\n",
       "      <th>Gender</th>\n",
       "      <th>Specimen Storage</th>\n",
       "      <th>Distance Patient-Agent</th>\n",
       "      <th>Agent-Pathlab sec</th>\n",
       "      <th>Specimen collection Time</th>\n",
       "      <th>Agent Arrival Time</th>\n",
       "      <th>Exact Arrival Time</th>\n",
       "    </tr>\n",
       "  </thead>\n",
       "  <tbody>\n",
       "    <tr>\n",
       "      <th>0</th>\n",
       "      <td>26</td>\n",
       "      <td>Medquest Diagnostics Center</td>\n",
       "      <td>06:00 to 21:00 (Home)</td>\n",
       "      <td>2713</td>\n",
       "      <td>2840</td>\n",
       "      <td>09:00 to 10:00</td>\n",
       "      <td>Female</td>\n",
       "      <td>Vaccum blood collection tube</td>\n",
       "      <td>778</td>\n",
       "      <td>271.3</td>\n",
       "      <td>11</td>\n",
       "      <td>09:05 to 09:55</td>\n",
       "      <td>34</td>\n",
       "    </tr>\n",
       "    <tr>\n",
       "      <th>1</th>\n",
       "      <td>40</td>\n",
       "      <td>Medquest Diagnostics Center</td>\n",
       "      <td>19:00 to 22:00 (working person)</td>\n",
       "      <td>2490</td>\n",
       "      <td>1378</td>\n",
       "      <td>19:00 to 20:00</td>\n",
       "      <td>Male</td>\n",
       "      <td>Vaccum blood collection tube</td>\n",
       "      <td>1126</td>\n",
       "      <td>249.0</td>\n",
       "      <td>10</td>\n",
       "      <td>19:05 to 19:55</td>\n",
       "      <td>39</td>\n",
       "    </tr>\n",
       "    <tr>\n",
       "      <th>2</th>\n",
       "      <td>19</td>\n",
       "      <td>Medquest Diagnostics Center</td>\n",
       "      <td>06:00 to 18:00 (Collect at work place)</td>\n",
       "      <td>4849</td>\n",
       "      <td>4458</td>\n",
       "      <td>14:00 to 15:00</td>\n",
       "      <td>Male</td>\n",
       "      <td>Vaccum blood collection tube</td>\n",
       "      <td>416</td>\n",
       "      <td>484.9</td>\n",
       "      <td>12</td>\n",
       "      <td>14:05 to 14:55</td>\n",
       "      <td>24</td>\n",
       "    </tr>\n",
       "    <tr>\n",
       "      <th>3</th>\n",
       "      <td>45</td>\n",
       "      <td>Medquest Diagnostics Center</td>\n",
       "      <td>19:00 to 22:00 (working person)</td>\n",
       "      <td>4348</td>\n",
       "      <td>2316</td>\n",
       "      <td>21:00 to 22:00</td>\n",
       "      <td>Female</td>\n",
       "      <td>Vaccum blood collection tube</td>\n",
       "      <td>3843</td>\n",
       "      <td>434.8</td>\n",
       "      <td>7</td>\n",
       "      <td>21:05 to 21:55</td>\n",
       "      <td>39</td>\n",
       "    </tr>\n",
       "    <tr>\n",
       "      <th>4</th>\n",
       "      <td>12</td>\n",
       "      <td>Medquest Diagnostics Center</td>\n",
       "      <td>06:00 to 18:00 (Collect at work place)</td>\n",
       "      <td>2725</td>\n",
       "      <td>4377</td>\n",
       "      <td>13:00 to 14:00</td>\n",
       "      <td>Male</td>\n",
       "      <td>Vaccum blood collection tube</td>\n",
       "      <td>2818</td>\n",
       "      <td>272.5</td>\n",
       "      <td>10</td>\n",
       "      <td>13:05 to 13:55</td>\n",
       "      <td>39</td>\n",
       "    </tr>\n",
       "    <tr>\n",
       "      <th>5</th>\n",
       "      <td>17</td>\n",
       "      <td>Vijaya Diagnostic Center</td>\n",
       "      <td>06:00 to 21:00 (Home)</td>\n",
       "      <td>6828</td>\n",
       "      <td>5301</td>\n",
       "      <td>07:00 to 08:00</td>\n",
       "      <td>Male</td>\n",
       "      <td>Vaccum blood collection tube</td>\n",
       "      <td>2447</td>\n",
       "      <td>682.8</td>\n",
       "      <td>9</td>\n",
       "      <td>07:05 to 07:55</td>\n",
       "      <td>39</td>\n",
       "    </tr>\n",
       "    <tr>\n",
       "      <th>6</th>\n",
       "      <td>43</td>\n",
       "      <td>Vijaya Diagnostic Center</td>\n",
       "      <td>19:00 to 22:00 (working person)</td>\n",
       "      <td>8326</td>\n",
       "      <td>6268</td>\n",
       "      <td>20:00 to 21:00</td>\n",
       "      <td>Male</td>\n",
       "      <td>Urine culture transport tube</td>\n",
       "      <td>5332</td>\n",
       "      <td>832.6</td>\n",
       "      <td>11</td>\n",
       "      <td>20:05 to 20:55</td>\n",
       "      <td>49</td>\n",
       "    </tr>\n",
       "    <tr>\n",
       "      <th>7</th>\n",
       "      <td>14</td>\n",
       "      <td>Vijaya Diagnostic Center</td>\n",
       "      <td>06:00 to 18:00 (Collect at work place)</td>\n",
       "      <td>2518</td>\n",
       "      <td>3321</td>\n",
       "      <td>16:00 to 17:00</td>\n",
       "      <td>Female</td>\n",
       "      <td>Disposable plastic container</td>\n",
       "      <td>3175</td>\n",
       "      <td>251.8</td>\n",
       "      <td>11</td>\n",
       "      <td>16:05 to 16:55</td>\n",
       "      <td>39</td>\n",
       "    </tr>\n",
       "    <tr>\n",
       "      <th>8</th>\n",
       "      <td>14</td>\n",
       "      <td>Vijaya Diagnostic Center</td>\n",
       "      <td>06:00 to 21:00 (Home)</td>\n",
       "      <td>5626</td>\n",
       "      <td>2099</td>\n",
       "      <td>06:00 to 07:00</td>\n",
       "      <td>Female</td>\n",
       "      <td>Disposable plastic container</td>\n",
       "      <td>5381</td>\n",
       "      <td>562.6</td>\n",
       "      <td>7</td>\n",
       "      <td>06:05 to 06:55</td>\n",
       "      <td>49</td>\n",
       "    </tr>\n",
       "    <tr>\n",
       "      <th>9</th>\n",
       "      <td>27</td>\n",
       "      <td>Vijaya Diagnostic Center</td>\n",
       "      <td>19:00 to 22:00 (working person)</td>\n",
       "      <td>8022</td>\n",
       "      <td>9724</td>\n",
       "      <td>20:00 to 21:00</td>\n",
       "      <td>Male</td>\n",
       "      <td>Vaccum blood collection tube</td>\n",
       "      <td>1807</td>\n",
       "      <td>802.2</td>\n",
       "      <td>18</td>\n",
       "      <td>20:05 to 20:55</td>\n",
       "      <td>39</td>\n",
       "    </tr>\n",
       "  </tbody>\n",
       "</table>\n",
       "</div>"
      ],
      "text/plain": [
       "   Agent ID           Diagnostic Centers  \\\n",
       "0        26  Medquest Diagnostics Center   \n",
       "1        40  Medquest Diagnostics Center   \n",
       "2        19  Medquest Diagnostics Center   \n",
       "3        45  Medquest Diagnostics Center   \n",
       "4        12  Medquest Diagnostics Center   \n",
       "5        17     Vijaya Diagnostic Center   \n",
       "6        43     Vijaya Diagnostic Center   \n",
       "7        14     Vijaya Diagnostic Center   \n",
       "8        14     Vijaya Diagnostic Center   \n",
       "9        27     Vijaya Diagnostic Center   \n",
       "\n",
       "                                Time slot  Distance Agent-Pathlab  \\\n",
       "0                   06:00 to 21:00 (Home)                    2713   \n",
       "1         19:00 to 22:00 (working person)                    2490   \n",
       "2  06:00 to 18:00 (Collect at work place)                    4849   \n",
       "3         19:00 to 22:00 (working person)                    4348   \n",
       "4  06:00 to 18:00 (Collect at work place)                    2725   \n",
       "5                   06:00 to 21:00 (Home)                    6828   \n",
       "6         19:00 to 22:00 (working person)                    8326   \n",
       "7  06:00 to 18:00 (Collect at work place)                    2518   \n",
       "8                   06:00 to 21:00 (Home)                    5626   \n",
       "9         19:00 to 22:00 (working person)                    8022   \n",
       "\n",
       "   Distance Patient-Pathlab Patient Availabilty  Gender  \\\n",
       "0                      2840      09:00 to 10:00  Female   \n",
       "1                      1378      19:00 to 20:00    Male   \n",
       "2                      4458      14:00 to 15:00    Male   \n",
       "3                      2316      21:00 to 22:00  Female   \n",
       "4                      4377      13:00 to 14:00    Male   \n",
       "5                      5301      07:00 to 08:00    Male   \n",
       "6                      6268      20:00 to 21:00    Male   \n",
       "7                      3321      16:00 to 17:00  Female   \n",
       "8                      2099      06:00 to 07:00  Female   \n",
       "9                      9724      20:00 to 21:00    Male   \n",
       "\n",
       "               Specimen Storage  Distance Patient-Agent  Agent-Pathlab sec  \\\n",
       "0  Vaccum blood collection tube                     778              271.3   \n",
       "1  Vaccum blood collection tube                    1126              249.0   \n",
       "2  Vaccum blood collection tube                     416              484.9   \n",
       "3  Vaccum blood collection tube                    3843              434.8   \n",
       "4  Vaccum blood collection tube                    2818              272.5   \n",
       "5  Vaccum blood collection tube                    2447              682.8   \n",
       "6  Urine culture transport tube                    5332              832.6   \n",
       "7  Disposable plastic container                    3175              251.8   \n",
       "8  Disposable plastic container                    5381              562.6   \n",
       "9  Vaccum blood collection tube                    1807              802.2   \n",
       "\n",
       "   Specimen collection Time Agent Arrival Time  Exact Arrival Time  \n",
       "0                        11     09:05 to 09:55                  34  \n",
       "1                        10     19:05 to 19:55                  39  \n",
       "2                        12     14:05 to 14:55                  24  \n",
       "3                         7     21:05 to 21:55                  39  \n",
       "4                        10     13:05 to 13:55                  39  \n",
       "5                         9     07:05 to 07:55                  39  \n",
       "6                        11     20:05 to 20:55                  49  \n",
       "7                        11     16:05 to 16:55                  39  \n",
       "8                         7     06:05 to 06:55                  49  \n",
       "9                        18     20:05 to 20:55                  39  "
      ]
     },
     "execution_count": 183,
     "metadata": {},
     "output_type": "execute_result"
    }
   ],
   "source": [
    "df.head(10)"
   ]
  },
  {
   "cell_type": "code",
   "execution_count": 184,
   "id": "da55dab3",
   "metadata": {},
   "outputs": [],
   "source": [
    "df = df[df['Distance Patient-Agent'] != 0]\n"
   ]
  },
  {
   "cell_type": "code",
   "execution_count": 186,
   "id": "f0de7187",
   "metadata": {},
   "outputs": [
    {
     "data": {
      "text/plain": [
       "<AxesSubplot:xlabel='Distance Patient-Agent', ylabel='Density'>"
      ]
     },
     "execution_count": 186,
     "metadata": {},
     "output_type": "execute_result"
    },
    {
     "data": {
      "image/png": "[encoded data removed]",
      "text/plain": [
       "<Figure size 432x288 with 1 Axes>"
      ]
     },
     "metadata": {
      "needs_background": "light"
     },
     "output_type": "display_data"
    }
   ],
   "source": [
    "sns.distplot(np.log(df['Distance Patient-Agent']))\n"
   ]
  },
  {
   "cell_type": "code",
   "execution_count": 148,
   "id": "83040179",
   "metadata": {},
   "outputs": [],
   "source": [
    "# Model Building\n",
    "from sklearn.model_selection import train_test_split # train and test \n",
    "from sklearn.metrics import classification_report\n",
    "from sklearn.linear_model import LogisticRegression\n",
    "from sklearn.metrics import accuracy_score\n",
    "from sklearn.svm import SVC\n",
    "from sklearn.preprocessing import LabelEncoder"
   ]
  },
  {
   "cell_type": "code",
   "execution_count": 187,
   "id": "5014a219",
   "metadata": {},
   "outputs": [],
   "source": [
    "# Patient Availabity\n",
    "df = df[df['Patient Availabilty'] != '19:00 to 22:00']\n",
    "df[\"Patient Availabilty From\"]=df[\"Patient Availabilty\"].apply (lambda x:x.split(\":\")[0])\n",
    "a = df['Patient Availabilty'].apply(lambda x:x.split('to')[1])\n",
    "df['Patient Availabilty To'] = a.apply(lambda x:x.split(':')[0])"
   ]
  },
  {
   "cell_type": "code",
   "execution_count": 188,
   "id": "80f59c78",
   "metadata": {},
   "outputs": [],
   "source": [
    "b = df['Agent Arrival Time'].apply(lambda x:x.split('to')[1])\n",
    "df['Agent Arrive Before'] = b.apply(lambda x:x.split(':')[0])"
   ]
  },
  {
   "cell_type": "code",
   "execution_count": 189,
   "id": "31b931fb",
   "metadata": {},
   "outputs": [],
   "source": [
    "df_A = df.drop([\"Patient Availabilty\",\"Diagnostic Centers\",\"Agent Arrival Time\"],axis=1)\n"
   ]
  },
  {
   "cell_type": "code",
   "execution_count": 190,
   "id": "f387e28e",
   "metadata": {},
   "outputs": [],
   "source": [
    "# Create instance of LableEncoder\n",
    "labelencoder=LabelEncoder\n",
    "df_A[\"Specimen Storage\"]=labelencoder().fit_transform(df[\"Specimen Storage\"])\n",
    "df_A[\"Time slot\"]=labelencoder().fit_transform(df[\"Time slot\"])\n",
    "df_A[\"Gender\"]=labelencoder().fit_transform(df[\"Gender\"]) "
   ]
  },
  {
   "cell_type": "code",
   "execution_count": 191,
   "id": "20a2a3ad",
   "metadata": {},
   "outputs": [
    {
     "data": {
      "text/html": [
       "<div>\n",
       "<style scoped>\n",
       "    .dataframe tbody tr th:only-of-type {\n",
       "        vertical-align: middle;\n",
       "    }\n",
       "\n",
       "    .dataframe tbody tr th {\n",
       "        vertical-align: top;\n",
       "    }\n",
       "\n",
       "    .dataframe thead th {\n",
       "        text-align: right;\n",
       "    }\n",
       "</style>\n",
       "<table border=\"1\" class=\"dataframe\">\n",
       "  <thead>\n",
       "    <tr style=\"text-align: right;\">\n",
       "      <th></th>\n",
       "      <th>Agent ID</th>\n",
       "      <th>Time slot</th>\n",
       "      <th>Distance Agent-Pathlab</th>\n",
       "      <th>Distance Patient-Pathlab</th>\n",
       "      <th>Gender</th>\n",
       "      <th>Specimen Storage</th>\n",
       "      <th>Distance Patient-Agent</th>\n",
       "      <th>Agent-Pathlab sec</th>\n",
       "      <th>Specimen collection Time</th>\n",
       "      <th>Exact Arrival Time</th>\n",
       "      <th>Patient Availabilty From</th>\n",
       "      <th>Patient Availabilty To</th>\n",
       "      <th>Agent Arrive Before</th>\n",
       "    </tr>\n",
       "  </thead>\n",
       "  <tbody>\n",
       "    <tr>\n",
       "      <th>0</th>\n",
       "      <td>26</td>\n",
       "      <td>1</td>\n",
       "      <td>2713</td>\n",
       "      <td>2840</td>\n",
       "      <td>0</td>\n",
       "      <td>2</td>\n",
       "      <td>778</td>\n",
       "      <td>271.3</td>\n",
       "      <td>11</td>\n",
       "      <td>34</td>\n",
       "      <td>09</td>\n",
       "      <td>10</td>\n",
       "      <td>09</td>\n",
       "    </tr>\n",
       "    <tr>\n",
       "      <th>1</th>\n",
       "      <td>40</td>\n",
       "      <td>2</td>\n",
       "      <td>2490</td>\n",
       "      <td>1378</td>\n",
       "      <td>1</td>\n",
       "      <td>2</td>\n",
       "      <td>1126</td>\n",
       "      <td>249.0</td>\n",
       "      <td>10</td>\n",
       "      <td>39</td>\n",
       "      <td>19</td>\n",
       "      <td>20</td>\n",
       "      <td>19</td>\n",
       "    </tr>\n",
       "    <tr>\n",
       "      <th>2</th>\n",
       "      <td>19</td>\n",
       "      <td>0</td>\n",
       "      <td>4849</td>\n",
       "      <td>4458</td>\n",
       "      <td>1</td>\n",
       "      <td>2</td>\n",
       "      <td>416</td>\n",
       "      <td>484.9</td>\n",
       "      <td>12</td>\n",
       "      <td>24</td>\n",
       "      <td>14</td>\n",
       "      <td>15</td>\n",
       "      <td>14</td>\n",
       "    </tr>\n",
       "    <tr>\n",
       "      <th>3</th>\n",
       "      <td>45</td>\n",
       "      <td>2</td>\n",
       "      <td>4348</td>\n",
       "      <td>2316</td>\n",
       "      <td>0</td>\n",
       "      <td>2</td>\n",
       "      <td>3843</td>\n",
       "      <td>434.8</td>\n",
       "      <td>7</td>\n",
       "      <td>39</td>\n",
       "      <td>21</td>\n",
       "      <td>22</td>\n",
       "      <td>21</td>\n",
       "    </tr>\n",
       "    <tr>\n",
       "      <th>4</th>\n",
       "      <td>12</td>\n",
       "      <td>0</td>\n",
       "      <td>2725</td>\n",
       "      <td>4377</td>\n",
       "      <td>1</td>\n",
       "      <td>2</td>\n",
       "      <td>2818</td>\n",
       "      <td>272.5</td>\n",
       "      <td>10</td>\n",
       "      <td>39</td>\n",
       "      <td>13</td>\n",
       "      <td>14</td>\n",
       "      <td>13</td>\n",
       "    </tr>\n",
       "  </tbody>\n",
       "</table>\n",
       "</div>"
      ],
      "text/plain": [
       "   Agent ID  Time slot  Distance Agent-Pathlab  Distance Patient-Pathlab  \\\n",
       "0        26          1                    2713                      2840   \n",
       "1        40          2                    2490                      1378   \n",
       "2        19          0                    4849                      4458   \n",
       "3        45          2                    4348                      2316   \n",
       "4        12          0                    2725                      4377   \n",
       "\n",
       "   Gender  Specimen Storage  Distance Patient-Agent  Agent-Pathlab sec  \\\n",
       "0       0                 2                     778              271.3   \n",
       "1       1                 2                    1126              249.0   \n",
       "2       1                 2                     416              484.9   \n",
       "3       0                 2                    3843              434.8   \n",
       "4       1                 2                    2818              272.5   \n",
       "\n",
       "   Specimen collection Time  Exact Arrival Time Patient Availabilty From  \\\n",
       "0                        11                  34                       09   \n",
       "1                        10                  39                       19   \n",
       "2                        12                  24                       14   \n",
       "3                         7                  39                       21   \n",
       "4                        10                  39                       13   \n",
       "\n",
       "  Patient Availabilty To Agent Arrive Before  \n",
       "0                     10                  09  \n",
       "1                     20                  19  \n",
       "2                     15                  14  \n",
       "3                     22                  21  \n",
       "4                     14                  13  "
      ]
     },
     "execution_count": 191,
     "metadata": {},
     "output_type": "execute_result"
    }
   ],
   "source": [
    "df_A.head(5)"
   ]
  },
  {
   "cell_type": "code",
   "execution_count": 192,
   "id": "68b2c680",
   "metadata": {},
   "outputs": [
    {
     "name": "stdout",
     "output_type": "stream",
     "text": [
      "<class 'pandas.core.frame.DataFrame'>\n",
      "Int64Index: 1295 entries, 0 to 1303\n",
      "Data columns (total 13 columns):\n",
      " #   Column                    Non-Null Count  Dtype  \n",
      "---  ------                    --------------  -----  \n",
      " 0   Agent ID                  1295 non-null   int64  \n",
      " 1   Time slot                 1295 non-null   int32  \n",
      " 2   Distance Agent-Pathlab    1295 non-null   int64  \n",
      " 3   Distance Patient-Pathlab  1295 non-null   int64  \n",
      " 4   Gender                    1295 non-null   int32  \n",
      " 5   Specimen Storage          1295 non-null   int32  \n",
      " 6   Distance Patient-Agent    1295 non-null   int64  \n",
      " 7   Agent-Pathlab sec         1295 non-null   float64\n",
      " 8   Specimen collection Time  1295 non-null   int64  \n",
      " 9   Exact Arrival Time        1295 non-null   int64  \n",
      " 10  Patient Availabilty From  1295 non-null   object \n",
      " 11  Patient Availabilty To    1295 non-null   object \n",
      " 12  Agent Arrive Before       1295 non-null   object \n",
      "dtypes: float64(1), int32(3), int64(6), object(3)\n",
      "memory usage: 126.5+ KB\n"
     ]
    }
   ],
   "source": [
    "df_A.info()"
   ]
  },
  {
   "cell_type": "code",
   "execution_count": 193,
   "id": "5ae03cfc",
   "metadata": {},
   "outputs": [],
   "source": [
    "variables = df_A.drop(['Exact Arrival Time'], axis = 1)\n",
    "target = df_A[['Exact Arrival Time']]"
   ]
  },
  {
   "cell_type": "code",
   "execution_count": 194,
   "id": "12e0c9d2",
   "metadata": {},
   "outputs": [],
   "source": [
    "xtrain,xtest,ytrain, ytest = train_test_split(variables,target, test_size = 0.3)\n"
   ]
  },
  {
   "cell_type": "code",
   "execution_count": 195,
   "id": "5bac5c88",
   "metadata": {},
   "outputs": [
    {
     "name": "stdout",
     "output_type": "stream",
     "text": [
      "Accruacy score: 0.6992\n",
      "Classification Report: \n",
      "               precision    recall  f1-score   support\n",
      "\n",
      "          24       0.96      0.97      0.96       125\n",
      "          34       0.00      0.00      0.00        68\n",
      "          39       0.53      1.00      0.69       112\n",
      "          49       0.66      0.42      0.51        50\n",
      "          54       0.00      0.00      0.00        16\n",
      "          64       0.90      1.00      0.95        18\n",
      "\n",
      "    accuracy                           0.70       389\n",
      "   macro avg       0.51      0.56      0.52       389\n",
      "weighted avg       0.59      0.70      0.62       389\n",
      "\n"
     ]
    }
   ],
   "source": [
    "lr = LogisticRegression(multi_class='ovr')\n",
    "lr.fit(xtrain, ytrain)\n",
    "ypred = lr.predict(xtest)\n",
    "print('Accruacy score: {:.4f}'.format(accuracy_score(ytest, ypred))) \n",
    "print('Classification Report: \\n', classification_report(ytest, ypred))"
   ]
  },
  {
   "cell_type": "code",
   "execution_count": 196,
   "id": "145f42cc",
   "metadata": {},
   "outputs": [
    {
     "name": "stdout",
     "output_type": "stream",
     "text": [
      "Accruacy score: 0.8869\n",
      "Classification Report: \n",
      "               precision    recall  f1-score   support\n",
      "\n",
      "          24       0.99      1.00      1.00       125\n",
      "          34       0.88      0.82      0.85        68\n",
      "          39       0.89      0.86      0.87       112\n",
      "          49       0.71      0.96      0.81        50\n",
      "          54       0.57      0.25      0.35        16\n",
      "          64       1.00      0.89      0.94        18\n",
      "\n",
      "    accuracy                           0.89       389\n",
      "   macro avg       0.84      0.80      0.80       389\n",
      "weighted avg       0.89      0.89      0.88       389\n",
      "\n"
     ]
    }
   ],
   "source": [
    "# Final model\n",
    "lr1 = LogisticRegression(multi_class='ovr',\n",
    "                           penalty = 'l2',\n",
    "                           solver='newton-cg',\n",
    "                           C = 16.0,\n",
    "                           fit_intercept=True,\n",
    "                           class_weight='balanced',\n",
    "                           random_state=100\n",
    "                          ) \n",
    "lr1.fit(xtrain, ytrain)\n",
    "ypred = lr1.predict(xtest)\n",
    "print('Accruacy score: {:.4f}'.format(accuracy_score(ytest, ypred))) \n",
    "print('Classification Report: \\n', classification_report(ytest, ypred))"
   ]
  },
  {
   "cell_type": "code",
   "execution_count": 197,
   "id": "88110c90",
   "metadata": {},
   "outputs": [],
   "source": [
    "import pickle\n",
    "pickle.dump(lr1, open(\"lg_reg.pkl\", \"wb\"))\n",
    "pickle.dump(df_A,open(\"data_set.pkl\", \"wb\"))"
   ]
  },
  {
   "cell_type": "code",
   "execution_count": 160,
   "id": "5440bcc9",
   "metadata": {},
   "outputs": [],
   "source": [
    "from haversine import haversine"
   ]
  },
  {
   "cell_type": "code",
   "execution_count": 93,
   "id": "7155a051",
   "metadata": {},
   "outputs": [
    {
     "name": "stdout",
     "output_type": "stream",
     "text": [
      "latitude 1 : 23.2354657\n",
      "longitude 1 : 34.2436\n",
      "latitude 2 : 35.34556\n",
      "longitude 2 : 23.24356\n",
      "2490\n"
     ]
    }
   ],
   "source": [
    "lat1 = float(input('latitude 1 : '))\n",
    "lon1 = float(input('longitude 1 : '))\n",
    "lat2 = float(input('latitude 2 : '))\n",
    "lon2 = float(input('longitude 2 : '))\n",
    "\n",
    "loc1 = (lat1, lon1)\n",
    "loc2 = (lat2, lon2)\n",
    "distance = haversine(loc1, loc2, unit='m')\n",
    "print(int(distance))"
   ]
  }
 ],
 "metadata": {
  "kernelspec": {
   "display_name": "Python 3 (ipykernel)",
   "language": "python",
   "name": "python3"
  },
  "language_info": {
   "codemirror_mode": {
    "name": "ipython",
    "version": 3
   },
   "file_extension": ".py",
   "mimetype": "text/x-python",
   "name": "python",
   "nbconvert_exporter": "python",
   "pygments_lexer": "ipython3",
   "version": "3.9.7"
  }
 },
 "nbformat": 4,
 "nbformat_minor": 5
}
